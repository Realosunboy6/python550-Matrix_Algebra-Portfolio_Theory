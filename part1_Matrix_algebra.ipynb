{
 "cells": [
  {
   "cell_type": "code",
   "execution_count": 1,
   "id": "a0db8cde-af87-4187-8974-feb138aeee53",
   "metadata": {},
   "outputs": [],
   "source": [
    "import os\n",
    "import pandas as pd\n",
    "import numpy as np\n",
    "import plotly.graph_objects as go\n",
    "from scipy.optimize import minimize"
   ]
  },
  {
   "cell_type": "code",
   "execution_count": null,
   "id": "acb07b74-fb65-4715-92f2-8746f02f988c",
   "metadata": {},
   "outputs": [],
   "source": [
    "def load_stocks(data_dir, stock_files):\n",
    "    # List to store data from each file\n",
    "    combined_df_list = []\n",
    "\n",
    "    for file in stock_files:\n",
    "        path = os.path.join(data_dir, file)\n",
    "\n",
    "        if os.path.isfile(path):\n",
    "            try:\n",
    "                # Load CSV\n",
    "                df = pd.read_csv(path, encoding='utf-8')\n",
    "\n",
    "                # Keep only needed columns\n",
    "                df = df[['Date', 'Ticker', 'Close', 'Sector']]\n",
    "\n",
    "                # Convert Date to timezone-aware datetime (UTC)\n",
    "                df['Date'] = pd.to_datetime(df['Date'], utc=True)\n",
    "\n",
    "                combined_df_list.append(df)\n",
    "            except Exception as e:\n",
    "                print(f\"Error reading {file}: {e}\")\n",
    "        else:\n",
    "            print(f\"File not found: {file}\")\n",
    "\n",
    "    # Concatenate all sector data\n",
    "    if combined_df_list:\n",
    "        combined_df = pd.concat(combined_df_list, ignore_index=True)\n",
    "    else:\n",
    "        combined_df = pd.DataFrame(columns=['Date', 'Ticker', 'Close', 'Sector'])\n",
    "\n",
    "    return combined_df"
   ]
  },
  {
   "cell_type": "code",
   "execution_count": null,
   "id": "d81eba4d-cbad-4f53-8c50-dc7d04b68252",
   "metadata": {},
   "outputs": [],
   "source": [
    "# Configuration\n",
    "data_dir = \"C:/Users/Z2005081/Downloads/COPY FROM SCHOOL PC/DATA_MINNER/FULL_2020_2025_11_SECTION\"\n",
    "stock_files = [\n",
    "    \"Consumer_Discretionary.csv\", \"Consumer_Staples.csv\", \"Energy.csv\",\n",
    "    \"Financials.csv\", \"Health_Care.csv\", \"Industrials.csv\",\n",
    "    \"Information_Technology.csv\", \"Materials.csv\", \"Real_Estate.csv\",\n",
    "    \"Communication_Services.csv\", \"Utilities.csv\"\n",
    "]"
   ]
  },
  {
   "cell_type": "code",
   "execution_count": null,
   "id": "5938952b-c8d3-4938-b99f-71f42014ce70",
   "metadata": {},
   "outputs": [],
   "source": [
    "# Load and prepare data\n",
    "combined_df = load_stocks(data_dir, stock_files)\n",
    "\n",
    "# Sort by Ticker and Date\n",
    "combined_df = combined_df.sort_values(by=['Ticker', 'Date'])"
   ]
  },
  {
   "cell_type": "code",
   "execution_count": null,
   "id": "cbcdc7fe-4cba-499d-8812-5c632cb5a7ac",
   "metadata": {},
   "outputs": [],
   "source": [
    "# Calculate log returns\n",
    "combined_df['LogReturn'] = combined_df.groupby('Ticker')['Close'].transform(\n",
    "    lambda x: np.log(x / x.shift(1))\n",
    ")\n",
    "\n",
    "# Drop rows with NaN log returns (first row of each Ticker group)\n",
    "#combined_df = combined_df.dropna(subset=['LogReturn'])\n",
    "\n",
    "# Reset index for clean row numbering\n",
    "combined_df = combined_df.reset_index(drop=True)"
   ]
  },
  {
   "cell_type": "code",
   "execution_count": null,
   "id": "c771d896-0f86-4b1f-a695-81b9a51af658",
   "metadata": {},
   "outputs": [],
   "source": [
    "# Display return\n",
    "print(\"\\nSample of cleaned stock log return data:\\n\")\n",
    "print(combined_df)"
   ]
  },
  {
   "cell_type": "code",
   "execution_count": null,
   "id": "0939e8f9-aeb3-414c-9888-279a6efb803d",
   "metadata": {},
   "outputs": [],
   "source": [
    "# Pivot: Tickers as columns, Dates as rows, LogReturn as values\n",
    "ret_df = combined_df.pivot(index='Date', columns='Ticker', values='LogReturn')\n",
    "ret_df = ret_df.sort_index() # Sort rows by Date (just in case)\n",
    "ret_df\n",
    "\n",
    "#log_return_matrix_df.style.set_caption(\"Log Return Matrix (Date × Ticker)\").background_gradient(cmap='coolwarm', axis=None)"
   ]
  },
  {
   "cell_type": "code",
   "execution_count": null,
   "id": "7e4bd979-fb25-4f42-a642-5ee1cfc93181",
   "metadata": {},
   "outputs": [],
   "source": [
    "# Correlation Matrix\n",
    "corr_matrix = ret_df.corr()\n",
    "corr_matrix"
   ]
  },
  {
   "cell_type": "code",
   "execution_count": null,
   "id": "b2f44698-455d-4049-80fc-80406ea59a22",
   "metadata": {},
   "outputs": [],
   "source": [
    "import numpy as np\n",
    "\n",
    "# For correlation or covariance matrix\n",
    "eigenvalues = np.linalg.eigvalsh(corr_matrix)\n",
    "\n",
    "# Check if all eigenvalues are non-negative\n",
    "is_psd = np.all(eigenvalues >= -1e-8)  # Allow small numerical errors\n",
    "\n",
    "print(\"Is the correlation matrix PSD?\", is_psd)\n"
   ]
  },
  {
   "cell_type": "code",
   "execution_count": null,
   "id": "9c63f0bc-6409-4b54-9e68-80acdf011c72",
   "metadata": {},
   "outputs": [],
   "source": [
    "print(\"Smallest eigenvalue:\", np.min(eigenvalues))"
   ]
  },
  {
   "cell_type": "code",
   "execution_count": null,
   "id": "0b138692-21e2-4bb7-b586-6df674fbdeef",
   "metadata": {},
   "outputs": [],
   "source": [
    "# Cummative Return for portfolio\n",
    "ret_df.cumsum()"
   ]
  },
  {
   "cell_type": "code",
   "execution_count": null,
   "id": "5258f29c-713b-4378-8478-ae9911500e15",
   "metadata": {},
   "outputs": [],
   "source": [
    "# Compute cumulative returns\n",
    "cumulative_returns = ret_df.cumsum()\n",
    "\n",
    "# Create interactive figure\n",
    "fig = go.Figure()\n",
    "\n",
    "# Add each ticker as a line\n",
    "for ticker in cumulative_returns.columns:\n",
    "    fig.add_trace(go.Scatter(\n",
    "        x=cumulative_returns.index,\n",
    "        y=cumulative_returns[ticker],\n",
    "        mode='lines',\n",
    "        name=ticker  # You can skip name=ticker if you want no legend\n",
    "    ))\n",
    "\n",
    "# Customize layout\n",
    "fig.update_layout(\n",
    "    title=\"Cumulative Log Returns (Interactive)\",\n",
    "    xaxis_title=\"Date\",\n",
    "    yaxis_title=\"Cumulative Return\",\n",
    "    width=1000,  # pixels\n",
    "    height=800,  # pixels\n",
    "    showlegend=False  # Removes the legend\n",
    ")\n",
    "\n",
    "# Show the interactive plot\n",
    "fig.show()\n"
   ]
  },
  {
   "cell_type": "code",
   "execution_count": null,
   "id": "a32011f9-c141-4cc2-8abf-0fb96b504acd",
   "metadata": {},
   "outputs": [],
   "source": [
    "# Mean(return)\n",
    "ret_df.mean()"
   ]
  },
  {
   "cell_type": "code",
   "execution_count": null,
   "id": "fc5eedb3-1608-4911-bc3f-db0c699967fb",
   "metadata": {},
   "outputs": [],
   "source": [
    "# Std(risk)\n",
    "ret_df.std()"
   ]
  },
  {
   "cell_type": "code",
   "execution_count": null,
   "id": "6bc95410-7d79-4f92-9e60-5c1c28887c6d",
   "metadata": {},
   "outputs": [],
   "source": [
    "# Weigth \n",
    "W = np.ones(len(ret_df.columns))/(np.ones(len(ret_df.columns))).sum() #create a vectors of 1s\n",
    "W\n"
   ]
  },
  {
   "cell_type": "code",
   "execution_count": null,
   "id": "7c70891a-81d6-4c60-b314-fd6be7c79ac1",
   "metadata": {},
   "outputs": [],
   "source": [
    "# Manual Expected Return\n",
    "(W * ret_df.mean()).sum()"
   ]
  },
  {
   "cell_type": "code",
   "execution_count": null,
   "id": "615d3241-13b6-47f1-8df9-5ed94cac1a55",
   "metadata": {},
   "outputs": [],
   "source": [
    "# Expected(Average)Return\n",
    "ret_df.mean().dot(W)"
   ]
  },
  {
   "cell_type": "code",
   "execution_count": null,
   "id": "1030f0a3-fd51-4a09-9343-cdb18686b954",
   "metadata": {},
   "outputs": [],
   "source": [
    "# Convariance Matrix\n",
    "ret_df.cov()"
   ]
  },
  {
   "cell_type": "code",
   "execution_count": null,
   "id": "a52a41e0-7b66-4081-914b-8897aa741548",
   "metadata": {},
   "outputs": [],
   "source": [
    "# Variance(risk) of the portfolio (550 by 550)\n",
    "(W.T.dot(ret_df.cov().dot(W)))**(1/2)"
   ]
  },
  {
   "cell_type": "code",
   "execution_count": null,
   "id": "97d6ca6b-fc7e-4f97-ac7a-37b6a4886f92",
   "metadata": {},
   "outputs": [],
   "source": [
    "#sharpe Ratio for individual asset (Risk adjusted return in form of the sharpe ratio)\n",
    "ret_df.mean() / ret_df.std()"
   ]
  },
  {
   "cell_type": "code",
   "execution_count": null,
   "id": "5460c5cd-1d49-403b-a056-07154fd0f0b2",
   "metadata": {},
   "outputs": [],
   "source": [
    "# sharpe Ratio of the portfolio\n",
    "ret_df.mean().dot(W) / (W.T.dot(ret_df.cov().dot(W)))**(1/2)"
   ]
  },
  {
   "cell_type": "code",
   "execution_count": null,
   "id": "b0b7980f-7a7c-4803-963b-ea423722d685",
   "metadata": {},
   "outputs": [],
   "source": []
  },
  {
   "cell_type": "code",
   "execution_count": null,
   "id": "0b22241e-144e-42fa-a09c-7ffdb42197d2",
   "metadata": {},
   "outputs": [],
   "source": []
  },
  {
   "cell_type": "code",
   "execution_count": null,
   "id": "3d82ec96-0c01-4a03-8ce0-884fc9daee17",
   "metadata": {},
   "outputs": [],
   "source": []
  }
 ],
 "metadata": {
  "kernelspec": {
   "display_name": "Python 3 (ipykernel)",
   "language": "python",
   "name": "python3"
  },
  "language_info": {
   "codemirror_mode": {
    "name": "ipython",
    "version": 3
   },
   "file_extension": ".py",
   "mimetype": "text/x-python",
   "name": "python",
   "nbconvert_exporter": "python",
   "pygments_lexer": "ipython3",
   "version": "3.12.7"
  }
 },
 "nbformat": 4,
 "nbformat_minor": 5
}
